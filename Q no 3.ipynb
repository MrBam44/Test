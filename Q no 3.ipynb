{
 "cells": [
  {
   "cell_type": "markdown",
   "id": "5073c71f",
   "metadata": {},
   "source": [
    "<h1><center> BizzAppDev Systems Pvt. Ltd.</center></h1>"
   ]
  },
  {
   "cell_type": "markdown",
   "id": "0b7ce015",
   "metadata": {},
   "source": [
    "## 3. Provide a program to calculate the time and distance based on below problem.\n",
    "• We have a 100-meter rod.<br>\n",
    "• At both ends, 1-1 cockroach is place.<br>\n",
    "• The left cockroach moves at 1 meter per second forward, and every 10 seconds moves 2\n",
    "meters backward.<br>\n",
    "• The right cockroach moves at 2 meters per second forward, and every 5 seconds moves 1\n",
    "meter backward.<br>\n",
    "• When both cockroaches meet, we have to calculate the time and distance. Calculate the total\n",
    "time to complete the 100 meter rod."
   ]
  },
  {
   "cell_type": "code",
   "execution_count": 1,
   "id": "e4a22b66",
   "metadata": {},
   "outputs": [],
   "source": [
    "'''Length of road (x) = 100 m'''\n",
    "L = 100\n",
    "\n",
    "'Left cockroach moving distance per second (x) = 1 m'\n",
    "'Left cockroach moving backward. (x) = 2 m in every 10 seconds'\n",
    "# So, In 10 seconds he Travel 8 m.\n",
    "x = 0.8    #....m/s\n",
    "\n",
    "'''Rigth cockroach moving distance per second (y) = 2 m\n",
    "Rigth cockroach moving backward. (y) = 1 m in every 5 seconds\n",
    "So, In 5 seconds he Travel 9 m.\n",
    "we take, 10 seconds he Travel 18 m'''\n",
    "y = 0.18   #...m/s"
   ]
  },
  {
   "cell_type": "code",
   "execution_count": 2,
   "id": "79d56012",
   "metadata": {},
   "outputs": [
    {
     "name": "stdout",
     "output_type": "stream",
     "text": [
      "total time to complete the 100 meter rod cockroch : 125.0 sec\n"
     ]
    }
   ],
   "source": [
    "#time take to cockroach 100 m distance by left cockroch\n",
    "L = 100\n",
    "x = 0.8\n",
    "left_cock = (L/x)\n",
    "print(f\"total time to complete the 100 meter rod cockroch : {left_cock} sec\")"
   ]
  },
  {
   "cell_type": "code",
   "execution_count": 3,
   "id": "b73983f9",
   "metadata": {},
   "outputs": [
    {
     "name": "stdout",
     "output_type": "stream",
     "text": [
      "total time to complete the 100 meter rod by right cockroch : 55.55555555555556 sec\n"
     ]
    }
   ],
   "source": [
    "#time take to cockroach 100 m distance by right cockroch\n",
    "L = 100\n",
    "y = 1.8\n",
    "right_cock = (L/y)\n",
    "print(f\"total time to complete the 100 meter rod by right cockroch : {right_cock} sec\")"
   ]
  },
  {
   "cell_type": "code",
   "execution_count": 4,
   "id": "7e3a774b",
   "metadata": {},
   "outputs": [
    {
     "name": "stdout",
     "output_type": "stream",
     "text": [
      "both cockroaches meet at : 26.0 m\n"
     ]
    }
   ],
   "source": [
    "cock_meet = (x + y)*10\n",
    "print(f'both cockroaches meet at : {cock_meet} m')"
   ]
  },
  {
   "cell_type": "code",
   "execution_count": 6,
   "id": "971c33e4",
   "metadata": {},
   "outputs": [
    {
     "name": "stdout",
     "output_type": "stream",
     "text": [
      "Both train rqured time to meet 38.46153846153846 sec\n"
     ]
    }
   ],
   "source": [
    "A = 100/2.6\n",
    "print(f'Both train rqured time to meet {A} sec')"
   ]
  },
  {
   "cell_type": "code",
   "execution_count": null,
   "id": "da987c7b",
   "metadata": {},
   "outputs": [],
   "source": []
  }
 ],
 "metadata": {
  "kernelspec": {
   "display_name": "Python 3 (ipykernel)",
   "language": "python",
   "name": "python3"
  },
  "language_info": {
   "codemirror_mode": {
    "name": "ipython",
    "version": 3
   },
   "file_extension": ".py",
   "mimetype": "text/x-python",
   "name": "python",
   "nbconvert_exporter": "python",
   "pygments_lexer": "ipython3",
   "version": "3.9.12"
  },
  "varInspector": {
   "cols": {
    "lenName": 16,
    "lenType": 16,
    "lenVar": 40
   },
   "kernels_config": {
    "python": {
     "delete_cmd_postfix": "",
     "delete_cmd_prefix": "del ",
     "library": "var_list.py",
     "varRefreshCmd": "print(var_dic_list())"
    },
    "r": {
     "delete_cmd_postfix": ") ",
     "delete_cmd_prefix": "rm(",
     "library": "var_list.r",
     "varRefreshCmd": "cat(var_dic_list()) "
    }
   },
   "types_to_exclude": [
    "module",
    "function",
    "builtin_function_or_method",
    "instance",
    "_Feature"
   ],
   "window_display": false
  }
 },
 "nbformat": 4,
 "nbformat_minor": 5
}
