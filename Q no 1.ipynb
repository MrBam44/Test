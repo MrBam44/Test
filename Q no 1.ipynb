{
 "cells": [
  {
   "cell_type": "markdown",
   "id": "73ec74db",
   "metadata": {},
   "source": [
    "<h1><center> BizzAppDev Systems Pvt. Ltd.</center></h1>"
   ]
  },
  {
   "cell_type": "markdown",
   "id": "b070651c",
   "metadata": {},
   "source": [
    "## 1. Provide a program for the calculator from terminal.\n",
    "• Make sure it do not ask questions but when you press enter. it displays the result.<br>\n",
    "• Amount and formula has to be in one line.<br>\n",
    "     **e.g** 456 - 12<br>\n",
    "        564/ 10<br>\n",
    "        456*1234+09-12"
   ]
  },
  {
   "cell_type": "code",
   "execution_count": 1,
   "id": "0c0be49e",
   "metadata": {},
   "outputs": [],
   "source": [
    "def finalcal(str=''):\n",
    "    first = 0\n",
    "    if(str[0]=='-'):\n",
    "        str=str[1:len(str)]\n",
    "        first = 1\n",
    "    singular = 0\n",
    "    a=0\n",
    "    arth = []\n",
    "    amorder=[]\n",
    "    arthpos=[]\n",
    "    num =[]\n",
    "    i=0\n",
    "    while(i<4):\n",
    "        lst = ['/' ,'*' , '+' , '-' ]\n",
    "        indx = str.find(lst[i])      # find index of operator\n",
    "        b=0   \n",
    "        if(indx != -1):\n",
    "            arthpos.append(indx)\n",
    "            arth.append(str[indx])\n",
    "            newstr = str[0:indx+1]\n",
    "            newstr = newstr.replace(newstr[indx],\"_\")\n",
    "            while(b<1):          # find the order of operator\n",
    "                c=0\n",
    "                c+=newstr.count('-')\n",
    "                c+=newstr.count(\"+\")\n",
    "                c+=newstr.count(\"*\")\n",
    "                c+=newstr.count(\"_\")\n",
    "                c = int(c)\n",
    "                singular +=c\n",
    "                amorder.append(c)\n",
    "                b+=1\n",
    "            str = str[indx+1:len(str)]  # new string with _ in place of operator\n",
    "            str = (newstr + str)\n",
    "            i=0\n",
    "        i+=1\n",
    "    while(a<1):           # find order of numbers\n",
    "        indx = str.find('_')\n",
    "        if(indx==-1):\n",
    "            last = float(str)\n",
    "            num.append(last)\n",
    "            break\n",
    "        newstr = str[0:indx]\n",
    "        num.append(int(newstr))\n",
    "        str = str[indx+1:len(str)]\n",
    "\n",
    "    def calc(s=0,t=0,z=''):\n",
    "        if(z=='/'):\n",
    "            return(s/t)\n",
    "        elif(z=='*'):\n",
    "            return(s*t)\n",
    "        elif(z=='+'):\n",
    "            return(s+t)\n",
    "        elif(z=='-'):\n",
    "            return(s-t)\n",
    "    for i in range(len(arth)):   # to solve the problem of  4-5+6 = 4-11\n",
    "        if(arth[i]=='-'):\n",
    "            arth[i]='+'\n",
    "            h = num[amorder[i]]\n",
    "            num[amorder[i]] = -h\n",
    "\n",
    "    if first ==1:    # To SOLVE if first char is -\n",
    "        num[0] = -num[0]\n",
    "\n",
    "        if amorder == []:\n",
    "            return num[0]\n",
    "\n",
    "    result = 0\n",
    "    numdup=[]\n",
    "    for i in range(len(arth)):       # 1*6-8  =  num[amorder[0]]\n",
    "        result = calc(num[amorder[i]-1],num[amorder[i]],arth[i])\n",
    "\n",
    "        numdup.clear()\n",
    "        for k in range(len(num)):\n",
    "            numdup.append(num[k])\n",
    "        num.clear()\n",
    "\n",
    "        for j in range(0,len(numdup)):\n",
    "            if (j==int((amorder[i]-1))) or (j == int((amorder[i]))):\n",
    "                pass\n",
    "            else:\n",
    "                num.append(numdup[j])\n",
    "    \n",
    "        num.insert(amorder[i]-1,result)\n",
    "\n",
    "        for m in range(len(arth)):\n",
    "            if amorder[m]>amorder[i]:\n",
    "                amorder[m]-= 1\n",
    "\n",
    "    if(singular==0):\n",
    "        return(int(str))\n",
    "    else:    \n",
    "        return result"
   ]
  },
  {
   "cell_type": "code",
   "execution_count": 2,
   "id": "9f1c4b4b",
   "metadata": {},
   "outputs": [],
   "source": [
    "def Brackets(str2 = \"\"):\n",
    "    str2 = str2.lower()\n",
    "    str2 = str2.replace(' ','')\n",
    "    str2 = str2.replace('[','(')\n",
    "    str2 = str2.replace(']',')')\n",
    "    str2 = str2.replace('{','(')\n",
    "    str2 = str2.replace('}',')')\n",
    "\n",
    "    bspos = []\n",
    "    bepos =[]\n",
    "    i =0\n",
    "    newstr = tempstr = str2\n",
    "    while(i<1):\n",
    "        \n",
    "        findb = tempstr.find('(')\n",
    "        if(findb!=-1):\n",
    "            bspos.append(findb)\n",
    "            newstr = tempstr[0:findb+1]\n",
    "            newstr = newstr.replace('(','$')\n",
    "            tempstr = newstr + tempstr[findb+1:len(tempstr)]\n",
    "        \n",
    "        findb = tempstr.find(')')\n",
    "        if(findb!=-1):\n",
    "            bepos.append(findb)\n",
    "            newstr = tempstr[0:findb+1]\n",
    "            newstr = newstr.replace(')','$')\n",
    "        \n",
    "            tempstr = newstr + tempstr[findb+1:len(tempstr)]\n",
    "\n",
    "        if(findb==-1):\n",
    "            i=1\n",
    "    bspos.reverse()\n",
    "   \n",
    "    mlsum = 0\n",
    "\n",
    "    for i in range(len(bspos)):\n",
    "        calcstr = str2[bspos[i]+1:bepos[i]]\n",
    "        midlen = len(calcstr)\n",
    "        calcstr = str(finalcal(calcstr))\n",
    "        mlsum = mlsum+ midlen + 1\n",
    "        if(i<len(bspos)-1):\n",
    "            bepos[i+1] = bepos[i+1] - mlsum\n",
    "            mlsum -=1\n",
    "        str2 = str2[0:bspos[i]] + calcstr + str2[bepos[i]+1:len(str2)]\n",
    "        temp2str = str2\n",
    "\n",
    "        find = str2.find('-')\n",
    "        if(find!=-1):\n",
    "            if(str2[find+1]=='-'):\n",
    "                temp2str = str2[0:find] +'+'+ str2[find+2:len(str2)]\n",
    "        \n",
    "        find = str2.find('+')\n",
    "        if(find!=-1):\n",
    "            if(str2[find+1]=='-'):\n",
    "                temp2str = str2[0:find] + str2[find+1:len(str2)]\n",
    "            if(str2[find-1]=='-'):\n",
    "                temp2str = str2[0:find] + str2[find+1:len(str2)]\n",
    "        str2 = temp2str\n",
    "    print(' = ',finalcal(str2))"
   ]
  },
  {
   "cell_type": "code",
   "execution_count": 3,
   "id": "c2ded539",
   "metadata": {},
   "outputs": [
    {
     "name": "stdout",
     "output_type": "stream",
     "text": [
      "\tCALCULATOR\n",
      "(Avoid using brackets, to escape crashes)\n",
      "(To exit type 'Exit' OR put invalid input)\n",
      "\n",
      "15+5\n",
      " =  20.0\n",
      "exit\n",
      "Exiting\n"
     ]
    }
   ],
   "source": [
    "def Advcalc():\n",
    "    print(\"\\tCALCULATOR\\n(Avoid using brackets, to escape crashes)\")\n",
    "    print(\"(To exit type 'Exit' OR put invalid input)\\n\")\n",
    "    i = 0\n",
    "    while(i<1):\n",
    "        n = input()\n",
    "        n = n.lower()\n",
    "        if 'exit' in n:\n",
    "            print('Exiting')\n",
    "            break\n",
    "        else:\n",
    "            Brackets(n)\n",
    "\n",
    "Advcalc()"
   ]
  },
  {
   "cell_type": "code",
   "execution_count": 4,
   "id": "ccfa039a",
   "metadata": {},
   "outputs": [
    {
     "name": "stdout",
     "output_type": "stream",
     "text": [
      "\tCALCULATOR\n",
      "(Avoid using brackets, to escape crashes)\n",
      "(To exit type 'Exit' OR put invalid input)\n",
      "\n",
      "45*1234+25-3\n",
      " =  55552.0\n",
      "exit\n",
      "Exiting\n"
     ]
    }
   ],
   "source": [
    "Advcalc()"
   ]
  },
  {
   "cell_type": "code",
   "execution_count": null,
   "id": "f630d6b5",
   "metadata": {},
   "outputs": [],
   "source": []
  }
 ],
 "metadata": {
  "kernelspec": {
   "display_name": "Python 3 (ipykernel)",
   "language": "python",
   "name": "python3"
  },
  "language_info": {
   "codemirror_mode": {
    "name": "ipython",
    "version": 3
   },
   "file_extension": ".py",
   "mimetype": "text/x-python",
   "name": "python",
   "nbconvert_exporter": "python",
   "pygments_lexer": "ipython3",
   "version": "3.9.12"
  },
  "varInspector": {
   "cols": {
    "lenName": 16,
    "lenType": 16,
    "lenVar": 40
   },
   "kernels_config": {
    "python": {
     "delete_cmd_postfix": "",
     "delete_cmd_prefix": "del ",
     "library": "var_list.py",
     "varRefreshCmd": "print(var_dic_list())"
    },
    "r": {
     "delete_cmd_postfix": ") ",
     "delete_cmd_prefix": "rm(",
     "library": "var_list.r",
     "varRefreshCmd": "cat(var_dic_list()) "
    }
   },
   "types_to_exclude": [
    "module",
    "function",
    "builtin_function_or_method",
    "instance",
    "_Feature"
   ],
   "window_display": false
  }
 },
 "nbformat": 4,
 "nbformat_minor": 5
}
