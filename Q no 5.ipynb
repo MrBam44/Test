{
 "cells": [
  {
   "cell_type": "markdown",
   "id": "b5b9c333",
   "metadata": {},
   "source": [
    "<h1><center> BizzAppDev Systems Pvt. Ltd.</center></h1>"
   ]
  },
  {
   "cell_type": "markdown",
   "id": "a5a72152",
   "metadata": {},
   "source": [
    "# 5. Provide a program to create tables (Employee, Department, Project) in database Sqlite and insert the data.\n",
    "• Make sure to add basic field, with employee to department and project relation.</br>\n",
    "• Make sure maintain M2M relation between employee and project.</br>"
   ]
  },
  {
   "cell_type": "code",
   "execution_count": 1,
   "id": "553b8996",
   "metadata": {},
   "outputs": [],
   "source": [
    "import pandas as pd\n",
    "import sqlite3"
   ]
  },
  {
   "cell_type": "code",
   "execution_count": 2,
   "id": "75ef998a",
   "metadata": {},
   "outputs": [],
   "source": [
    "con = sqlite3.connect('BizzAppDev.db')\n",
    "cur = con.cursor()\n",
    "\n",
    "# Employee Table\n",
    "cur.execute(\"\"\"CREATE TABLE Employee(Emp_Id INTEGER PRIMARY KEY AUTOINCREMENT,\n",
    "            first_name TEXT NOT NULL,\n",
    "            last_name TEXT NOT NULL,\n",
    "            Dept_Id INTEGER,\n",
    "            salary REAL NOT NULL,\n",
    "            DOJ date NOT NULL,\n",
    "            country TEXT NOT NULL,\n",
    "            CONSTRAINT fk_dept\n",
    "            FOREIGN KEY (Dept_Id)\n",
    "            REFERENCES Department(Dept_Id))\"\"\");\n",
    "\n",
    "\n",
    "cur.execute('''INSERT INTO Employee VALUES\n",
    "            (2448,\"Preyas\",\"Chaudhari\",22,55000,'14-07-2020', 'IND')''');\n",
    "cur.execute('''INSERT INTO Employee VALUES\n",
    "            (2445,\"AARU\",'Shinde',21,55060,'25-08-2019', 'IND')''');\n",
    "cur.execute('''INSERT INTO Employee VALUES\n",
    "            (2446,\"Ajay\",'Patil',24,55060,'09-07-2019', 'IND')''');\n",
    "cur.execute('''INSERT INTO Employee VALUES\n",
    "            (2447,\"Shubham\",'Koli',23,55060,'25-06-2020', 'IND')''');\n",
    "\n",
    "con.commit()"
   ]
  },
  {
   "cell_type": "code",
   "execution_count": 3,
   "id": "100bf9d3",
   "metadata": {},
   "outputs": [
    {
     "name": "stdout",
     "output_type": "stream",
     "text": [
      "(2445, 'AARU', 'Shinde', 21, 55060.0, '25-08-2019', 'IND')\n",
      "(2446, 'Ajay', 'Patil', 24, 55060.0, '09-07-2019', 'IND')\n",
      "(2447, 'Shubham', 'Koli', 23, 55060.0, '25-06-2020', 'IND')\n",
      "(2448, 'Preyas', 'Chaudhari', 22, 55000.0, '14-07-2020', 'IND')\n"
     ]
    }
   ],
   "source": [
    "for row in cur.execute('''SELECT * FROM  Employee'''):\n",
    "    print(row)"
   ]
  },
  {
   "cell_type": "code",
   "execution_count": 4,
   "id": "dca8858e",
   "metadata": {},
   "outputs": [],
   "source": [
    "# Department Table\n",
    "cur = con.cursor()\n",
    "cur.execute(\"\"\"CREATE TABLE Department(Dept_Id INTEGER PRIMARY KEY AUTOINCREMENT,\n",
    "                    D_Name varchar(50),\n",
    "                    DOE date)\"\"\");\n",
    "cur.execute('''INSERT INTO Department VALUES\n",
    "            (21,\"Account\",\"02-08-2090\")''');\n",
    "cur.execute('''INSERT INTO Department VALUES\n",
    "            (22,\"Sales\",\"12-03-2080\")''');\n",
    "cur.execute('''INSERT INTO Department VALUES\n",
    "            (23,\"QA TEAM\",\"02-08-2090\")''');\n",
    "cur.execute('''INSERT INTO Department VALUES\n",
    "            (24,\"Software Tester\",\"12-03-2080\")''');\n",
    "con.commit()"
   ]
  },
  {
   "cell_type": "code",
   "execution_count": 5,
   "id": "32b99f78",
   "metadata": {},
   "outputs": [
    {
     "name": "stdout",
     "output_type": "stream",
     "text": [
      "(21, 'Account', '02-08-2090')\n",
      "(22, 'Sales', '12-03-2080')\n",
      "(23, 'QA TEAM', '02-08-2090')\n",
      "(24, 'Software Tester', '12-03-2080')\n"
     ]
    }
   ],
   "source": [
    "for row in cur.execute('''SELECT * FROM  Department'''):\n",
    "    print(row)"
   ]
  },
  {
   "cell_type": "code",
   "execution_count": 6,
   "id": "026726a0",
   "metadata": {},
   "outputs": [],
   "source": [
    "# Project Table\n",
    "cur = con.cursor()\n",
    "cur.execute(\"\"\"CREATE TABLE Project(Emp_Id INTEGER,\n",
    "            Prjt_Id INTEGER PRIMARY KEY AUTOINCREMENT,\n",
    "            project_name TEXT NOT NULL,\n",
    "            CONSTRAINT fk_emp\n",
    "            FOREIGN KEY (Emp_Id)\n",
    "            REFERENCES Employee(Emp_Id))\"\"\");\n",
    "\n",
    "cur.execute('''INSERT INTO Project VALUES\n",
    "            (2445,123,\"Alpha1\")''');\n",
    "cur.execute('''INSERT INTO Project VALUES\n",
    "            (2446,124,\"Alpha2\")''');\n",
    "cur.execute('''INSERT INTO Project VALUES\n",
    "            (2447,125,\"Alpha3\")''');\n",
    "cur.execute('''INSERT INTO Project VALUES\n",
    "            (2448,126,\"Alpha4\")''');\n",
    "con.commit()"
   ]
  },
  {
   "cell_type": "code",
   "execution_count": 7,
   "id": "be8a3111",
   "metadata": {},
   "outputs": [
    {
     "name": "stdout",
     "output_type": "stream",
     "text": [
      "(2445, 123, 'Alpha1')\n",
      "(2446, 124, 'Alpha2')\n",
      "(2447, 125, 'Alpha3')\n",
      "(2448, 126, 'Alpha4')\n"
     ]
    }
   ],
   "source": [
    "for row in cur.execute('''SELECT * FROM  Project'''):\n",
    "    print(row)"
   ]
  },
  {
   "cell_type": "code",
   "execution_count": 8,
   "id": "cbaa5d38",
   "metadata": {},
   "outputs": [],
   "source": [
    "filtered_data = pd.read_sql_query(\"\"\"SELECT * FROM Employee WHERE salary > 50000\"\"\", con)"
   ]
  },
  {
   "cell_type": "code",
   "execution_count": 9,
   "id": "0e239e6a",
   "metadata": {},
   "outputs": [
    {
     "data": {
      "text/html": [
       "<div>\n",
       "<style scoped>\n",
       "    .dataframe tbody tr th:only-of-type {\n",
       "        vertical-align: middle;\n",
       "    }\n",
       "\n",
       "    .dataframe tbody tr th {\n",
       "        vertical-align: top;\n",
       "    }\n",
       "\n",
       "    .dataframe thead th {\n",
       "        text-align: right;\n",
       "    }\n",
       "</style>\n",
       "<table border=\"1\" class=\"dataframe\">\n",
       "  <thead>\n",
       "    <tr style=\"text-align: right;\">\n",
       "      <th></th>\n",
       "      <th>Emp_Id</th>\n",
       "      <th>first_name</th>\n",
       "      <th>last_name</th>\n",
       "      <th>Dept_Id</th>\n",
       "      <th>salary</th>\n",
       "      <th>DOJ</th>\n",
       "      <th>country</th>\n",
       "    </tr>\n",
       "  </thead>\n",
       "  <tbody>\n",
       "    <tr>\n",
       "      <th>0</th>\n",
       "      <td>2445</td>\n",
       "      <td>AARU</td>\n",
       "      <td>Shinde</td>\n",
       "      <td>21</td>\n",
       "      <td>55060.0</td>\n",
       "      <td>25-08-2019</td>\n",
       "      <td>IND</td>\n",
       "    </tr>\n",
       "    <tr>\n",
       "      <th>3</th>\n",
       "      <td>2448</td>\n",
       "      <td>Preyas</td>\n",
       "      <td>Chaudhari</td>\n",
       "      <td>22</td>\n",
       "      <td>55000.0</td>\n",
       "      <td>14-07-2020</td>\n",
       "      <td>IND</td>\n",
       "    </tr>\n",
       "    <tr>\n",
       "      <th>1</th>\n",
       "      <td>2446</td>\n",
       "      <td>Ajay</td>\n",
       "      <td>Patil</td>\n",
       "      <td>24</td>\n",
       "      <td>55060.0</td>\n",
       "      <td>09-07-2019</td>\n",
       "      <td>IND</td>\n",
       "    </tr>\n",
       "    <tr>\n",
       "      <th>2</th>\n",
       "      <td>2447</td>\n",
       "      <td>Shubham</td>\n",
       "      <td>Koli</td>\n",
       "      <td>23</td>\n",
       "      <td>55060.0</td>\n",
       "      <td>25-06-2020</td>\n",
       "      <td>IND</td>\n",
       "    </tr>\n",
       "  </tbody>\n",
       "</table>\n",
       "</div>"
      ],
      "text/plain": [
       "   Emp_Id first_name  last_name  Dept_Id   salary         DOJ country\n",
       "0    2445       AARU     Shinde       21  55060.0  25-08-2019     IND\n",
       "3    2448     Preyas  Chaudhari       22  55000.0  14-07-2020     IND\n",
       "1    2446       Ajay      Patil       24  55060.0  09-07-2019     IND\n",
       "2    2447    Shubham       Koli       23  55060.0  25-06-2020     IND"
      ]
     },
     "execution_count": 9,
     "metadata": {},
     "output_type": "execute_result"
    }
   ],
   "source": [
    "filtered_data.sample(4)"
   ]
  },
  {
   "cell_type": "code",
   "execution_count": 10,
   "id": "5584c5f1",
   "metadata": {},
   "outputs": [
    {
     "data": {
      "text/html": [
       "<div>\n",
       "<style scoped>\n",
       "    .dataframe tbody tr th:only-of-type {\n",
       "        vertical-align: middle;\n",
       "    }\n",
       "\n",
       "    .dataframe tbody tr th {\n",
       "        vertical-align: top;\n",
       "    }\n",
       "\n",
       "    .dataframe thead th {\n",
       "        text-align: right;\n",
       "    }\n",
       "</style>\n",
       "<table border=\"1\" class=\"dataframe\">\n",
       "  <thead>\n",
       "    <tr style=\"text-align: right;\">\n",
       "      <th></th>\n",
       "      <th>Emp_Id</th>\n",
       "      <th>Prjt_Id</th>\n",
       "      <th>project_name</th>\n",
       "    </tr>\n",
       "  </thead>\n",
       "  <tbody>\n",
       "    <tr>\n",
       "      <th>0</th>\n",
       "      <td>2445</td>\n",
       "      <td>123</td>\n",
       "      <td>Alpha1</td>\n",
       "    </tr>\n",
       "    <tr>\n",
       "      <th>1</th>\n",
       "      <td>2446</td>\n",
       "      <td>124</td>\n",
       "      <td>Alpha2</td>\n",
       "    </tr>\n",
       "    <tr>\n",
       "      <th>2</th>\n",
       "      <td>2447</td>\n",
       "      <td>125</td>\n",
       "      <td>Alpha3</td>\n",
       "    </tr>\n",
       "    <tr>\n",
       "      <th>3</th>\n",
       "      <td>2448</td>\n",
       "      <td>126</td>\n",
       "      <td>Alpha4</td>\n",
       "    </tr>\n",
       "  </tbody>\n",
       "</table>\n",
       "</div>"
      ],
      "text/plain": [
       "   Emp_Id  Prjt_Id project_name\n",
       "0    2445      123       Alpha1\n",
       "1    2446      124       Alpha2\n",
       "2    2447      125       Alpha3\n",
       "3    2448      126       Alpha4"
      ]
     },
     "execution_count": 10,
     "metadata": {},
     "output_type": "execute_result"
    }
   ],
   "source": [
    "filtered_data = pd.read_sql_query(\"\"\"SELECT * FROM Project \"\"\", con)\n",
    "filtered_data.head()"
   ]
  },
  {
   "cell_type": "code",
   "execution_count": 14,
   "id": "05a7bd4c",
   "metadata": {},
   "outputs": [
    {
     "data": {
      "text/html": [
       "<div>\n",
       "<style scoped>\n",
       "    .dataframe tbody tr th:only-of-type {\n",
       "        vertical-align: middle;\n",
       "    }\n",
       "\n",
       "    .dataframe tbody tr th {\n",
       "        vertical-align: top;\n",
       "    }\n",
       "\n",
       "    .dataframe thead th {\n",
       "        text-align: right;\n",
       "    }\n",
       "</style>\n",
       "<table border=\"1\" class=\"dataframe\">\n",
       "  <thead>\n",
       "    <tr style=\"text-align: right;\">\n",
       "      <th></th>\n",
       "      <th>Dept_Id</th>\n",
       "      <th>D_Name</th>\n",
       "      <th>DOE</th>\n",
       "    </tr>\n",
       "  </thead>\n",
       "  <tbody>\n",
       "    <tr>\n",
       "      <th>0</th>\n",
       "      <td>21</td>\n",
       "      <td>Account</td>\n",
       "      <td>02-08-2090</td>\n",
       "    </tr>\n",
       "    <tr>\n",
       "      <th>1</th>\n",
       "      <td>22</td>\n",
       "      <td>Sales</td>\n",
       "      <td>12-03-2080</td>\n",
       "    </tr>\n",
       "    <tr>\n",
       "      <th>2</th>\n",
       "      <td>23</td>\n",
       "      <td>QA TEAM</td>\n",
       "      <td>02-08-2090</td>\n",
       "    </tr>\n",
       "    <tr>\n",
       "      <th>3</th>\n",
       "      <td>24</td>\n",
       "      <td>Software Tester</td>\n",
       "      <td>12-03-2080</td>\n",
       "    </tr>\n",
       "  </tbody>\n",
       "</table>\n",
       "</div>"
      ],
      "text/plain": [
       "   Dept_Id           D_Name         DOE\n",
       "0       21          Account  02-08-2090\n",
       "1       22            Sales  12-03-2080\n",
       "2       23          QA TEAM  02-08-2090\n",
       "3       24  Software Tester  12-03-2080"
      ]
     },
     "execution_count": 14,
     "metadata": {},
     "output_type": "execute_result"
    }
   ],
   "source": [
    "filtered_data = pd.read_sql_query(\"\"\"SELECT * FROM Department \"\"\", con)\n",
    "filtered_data.head()"
   ]
  },
  {
   "cell_type": "markdown",
   "id": "fffb56a3",
   "metadata": {},
   "source": [
    "### MANY 2 MANY (M2M) Between Employee and Project"
   ]
  },
  {
   "cell_type": "code",
   "execution_count": 12,
   "id": "72e9925e",
   "metadata": {},
   "outputs": [],
   "source": [
    "cur = con.cursor()\n",
    "cur.execute(\"\"\"CREATE TABLE Employee_Project(Em_Pr_Id INTEGER PRIMARY KEY AUTOINCREMENT,\n",
    "            Prjt_Id INTEGER,\n",
    "            Emp_Id INTEGER,\n",
    "            CONSTRAINT fk_Em_Pr\n",
    "            FOREIGN KEY (Emp_Id)\n",
    "            REFERENCES Employee(Emp_Id),\n",
    "            CONSTRAINT fk_Pr\n",
    "            FOREIGN KEY (Prjt_Id) \n",
    "            REFERENCES Project(Prjt_Id))\"\"\");\n",
    "\n",
    "cur.execute('''INSERT INTO Employee_Project VALUES\n",
    "            (1,2445,123)''');\n",
    "cur.execute('''INSERT INTO Employee_Project VALUES\n",
    "            (2,2445,124)''');\n",
    "cur.execute('''INSERT INTO Employee_Project VALUES\n",
    "            (3,2446,124)''');\n",
    "cur.execute('''INSERT INTO Employee_Project VALUES\n",
    "            (4,2447,125)''');\n",
    "cur.execute('''INSERT INTO Employee_Project VALUES\n",
    "            (5,2448,123)''');\n",
    "cur.execute('''INSERT INTO Employee_Project VALUES\n",
    "            (6,2447,126)''');\n",
    "con.commit()"
   ]
  },
  {
   "cell_type": "code",
   "execution_count": 15,
   "id": "711ef03c",
   "metadata": {},
   "outputs": [
    {
     "data": {
      "text/html": [
       "<div>\n",
       "<style scoped>\n",
       "    .dataframe tbody tr th:only-of-type {\n",
       "        vertical-align: middle;\n",
       "    }\n",
       "\n",
       "    .dataframe tbody tr th {\n",
       "        vertical-align: top;\n",
       "    }\n",
       "\n",
       "    .dataframe thead th {\n",
       "        text-align: right;\n",
       "    }\n",
       "</style>\n",
       "<table border=\"1\" class=\"dataframe\">\n",
       "  <thead>\n",
       "    <tr style=\"text-align: right;\">\n",
       "      <th></th>\n",
       "      <th>Em_Pr_Id</th>\n",
       "      <th>Prjt_Id</th>\n",
       "      <th>Emp_Id</th>\n",
       "    </tr>\n",
       "  </thead>\n",
       "  <tbody>\n",
       "    <tr>\n",
       "      <th>0</th>\n",
       "      <td>1</td>\n",
       "      <td>2445</td>\n",
       "      <td>123</td>\n",
       "    </tr>\n",
       "    <tr>\n",
       "      <th>1</th>\n",
       "      <td>2</td>\n",
       "      <td>2445</td>\n",
       "      <td>124</td>\n",
       "    </tr>\n",
       "    <tr>\n",
       "      <th>2</th>\n",
       "      <td>3</td>\n",
       "      <td>2446</td>\n",
       "      <td>124</td>\n",
       "    </tr>\n",
       "    <tr>\n",
       "      <th>3</th>\n",
       "      <td>4</td>\n",
       "      <td>2447</td>\n",
       "      <td>125</td>\n",
       "    </tr>\n",
       "    <tr>\n",
       "      <th>4</th>\n",
       "      <td>5</td>\n",
       "      <td>2448</td>\n",
       "      <td>123</td>\n",
       "    </tr>\n",
       "  </tbody>\n",
       "</table>\n",
       "</div>"
      ],
      "text/plain": [
       "   Em_Pr_Id  Prjt_Id  Emp_Id\n",
       "0         1     2445     123\n",
       "1         2     2445     124\n",
       "2         3     2446     124\n",
       "3         4     2447     125\n",
       "4         5     2448     123"
      ]
     },
     "execution_count": 15,
     "metadata": {},
     "output_type": "execute_result"
    }
   ],
   "source": [
    "filtered_data = pd.read_sql_query(\"\"\"SELECT * FROM Employee_Project \"\"\", con)\n",
    "filtered_data.head()"
   ]
  },
  {
   "cell_type": "code",
   "execution_count": null,
   "id": "a6522423",
   "metadata": {},
   "outputs": [],
   "source": []
  }
 ],
 "metadata": {
  "kernelspec": {
   "display_name": "Python 3 (ipykernel)",
   "language": "python",
   "name": "python3"
  },
  "language_info": {
   "codemirror_mode": {
    "name": "ipython",
    "version": 3
   },
   "file_extension": ".py",
   "mimetype": "text/x-python",
   "name": "python",
   "nbconvert_exporter": "python",
   "pygments_lexer": "ipython3",
   "version": "3.9.12"
  },
  "varInspector": {
   "cols": {
    "lenName": 16,
    "lenType": 16,
    "lenVar": 40
   },
   "kernels_config": {
    "python": {
     "delete_cmd_postfix": "",
     "delete_cmd_prefix": "del ",
     "library": "var_list.py",
     "varRefreshCmd": "print(var_dic_list())"
    },
    "r": {
     "delete_cmd_postfix": ") ",
     "delete_cmd_prefix": "rm(",
     "library": "var_list.r",
     "varRefreshCmd": "cat(var_dic_list()) "
    }
   },
   "types_to_exclude": [
    "module",
    "function",
    "builtin_function_or_method",
    "instance",
    "_Feature"
   ],
   "window_display": false
  }
 },
 "nbformat": 4,
 "nbformat_minor": 5
}
