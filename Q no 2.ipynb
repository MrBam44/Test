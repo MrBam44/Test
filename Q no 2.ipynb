{
 "cells": [
  {
   "cell_type": "markdown",
   "id": "94a416b8",
   "metadata": {},
   "source": [
    "<h1><center> BizzAppDev Systems Pvt. Ltd.</center></h1>"
   ]
  },
  {
   "cell_type": "markdown",
   "id": "bd54fe4a",
   "metadata": {},
   "source": [
    "# 2. Provide a program to read the CSV file.\n",
    "• CSV file has three columns, the first column names, the second column is birthdate(YYYYMM-\n",
    "DD) the third column is salary.<br>\n",
    "• Read the file and display the data and age in the terminal.<br>\n",
    "• The file path, delimiter, and quote char are the input by the user.<br>\n",
    "• The program has to work from the terminal. The input and output have been taken/displayed\n",
    "on the terminal."
   ]
  },
  {
   "cell_type": "code",
   "execution_count": 24,
   "id": "fd5000d4",
   "metadata": {},
   "outputs": [],
   "source": [
    "import csv\n",
    "import datetime\n",
    "from datetime import date\n",
    "import pandas as pd"
   ]
  },
  {
   "cell_type": "code",
   "execution_count": 25,
   "id": "a6a131ba",
   "metadata": {},
   "outputs": [
    {
     "name": "stdout",
     "output_type": "stream",
     "text": [
      "Enter names : Arati Shinde\n",
      "What is your B'day? (in YYYY-MM-DD)1996-07-20\n",
      " Enter salary : 84000\n",
      "1 = enter more\n",
      " 2 = exit \n",
      " enter your choice : 1\n",
      "Enter names : Shubham Koli\n",
      "What is your B'day? (in YYYY-MM-DD)1995-08-23\n",
      " Enter salary : 80000\n",
      "1 = enter more\n",
      " 2 = exit \n",
      " enter your choice : 1\n",
      "Enter names : Surbhi Devaraj\n",
      "What is your B'day? (in YYYY-MM-DD)1996-01-17\n",
      " Enter salary : 40000\n",
      "1 = enter more\n",
      " 2 = exit \n",
      " enter your choice : 2\n",
      "['Name', 'Birthdate', 'Salary']\n",
      "['Arati Shinde', '1996-07-20', '84000']\n",
      "['Shubham Koli', '1995-08-23', '80000']\n",
      "['Surbhi Devaraj', '1996-01-17', '40000']\n"
     ]
    }
   ],
   "source": [
    "def create():\n",
    "    with open('data.csv', \"w\", newline='') as obj: \n",
    "        fobj = csv.writer(obj,quotechar=\"'\",delimiter = ',')\n",
    "        fobj.writerow(['Name','Birthdate','Salary'])\n",
    "        while True:\n",
    "            Name = input(\"Enter names : \")\n",
    "            Birthday=input(\"What is your B'day? (in YYYY-MM-DD)\")\n",
    "            Birthdate=datetime.datetime.strptime(Birthday, \"%Y-%m-%d\")\n",
    "            Salary = int(input(\" Enter salary : \"))\n",
    "            record = [Name, Birthdate.strftime(\"%Y-%m-%d\"), Salary]\n",
    "            fobj.writerow(record)\n",
    "            ch = int(input(\"1 = enter more\\n 2 = exit \\n enter your choice : \"))\n",
    "            if ch == 2:\n",
    "                break\n",
    "def dis():\n",
    "    with open ('data.csv', 'r') as obj:\n",
    "        fobj = csv.reader(obj, quotechar=\"'\",delimiter = ',')\n",
    "        for i in fobj:\n",
    "            print(i)\n",
    "            \n",
    "create()\n",
    "dis()"
   ]
  },
  {
   "cell_type": "code",
   "execution_count": 26,
   "id": "933ebe4e",
   "metadata": {},
   "outputs": [
    {
     "data": {
      "text/html": [
       "<div>\n",
       "<style scoped>\n",
       "    .dataframe tbody tr th:only-of-type {\n",
       "        vertical-align: middle;\n",
       "    }\n",
       "\n",
       "    .dataframe tbody tr th {\n",
       "        vertical-align: top;\n",
       "    }\n",
       "\n",
       "    .dataframe thead th {\n",
       "        text-align: right;\n",
       "    }\n",
       "</style>\n",
       "<table border=\"1\" class=\"dataframe\">\n",
       "  <thead>\n",
       "    <tr style=\"text-align: right;\">\n",
       "      <th></th>\n",
       "      <th>Name</th>\n",
       "      <th>Birthdate</th>\n",
       "      <th>Salary</th>\n",
       "    </tr>\n",
       "  </thead>\n",
       "  <tbody>\n",
       "    <tr>\n",
       "      <th>0</th>\n",
       "      <td>Arati Shinde</td>\n",
       "      <td>1996-07-20</td>\n",
       "      <td>84000</td>\n",
       "    </tr>\n",
       "    <tr>\n",
       "      <th>1</th>\n",
       "      <td>Shubham Koli</td>\n",
       "      <td>1995-08-23</td>\n",
       "      <td>80000</td>\n",
       "    </tr>\n",
       "    <tr>\n",
       "      <th>2</th>\n",
       "      <td>Surbhi Devaraj</td>\n",
       "      <td>1996-01-17</td>\n",
       "      <td>40000</td>\n",
       "    </tr>\n",
       "  </tbody>\n",
       "</table>\n",
       "</div>"
      ],
      "text/plain": [
       "             Name   Birthdate  Salary\n",
       "0    Arati Shinde  1996-07-20   84000\n",
       "1    Shubham Koli  1995-08-23   80000\n",
       "2  Surbhi Devaraj  1996-01-17   40000"
      ]
     },
     "execution_count": 26,
     "metadata": {},
     "output_type": "execute_result"
    }
   ],
   "source": [
    "df = pd.read_csv('data.csv')\n",
    "df"
   ]
  },
  {
   "cell_type": "code",
   "execution_count": 27,
   "id": "dfcaf3b0",
   "metadata": {},
   "outputs": [],
   "source": [
    "from datetime import datetime"
   ]
  },
  {
   "cell_type": "code",
   "execution_count": 28,
   "id": "cf93c209",
   "metadata": {},
   "outputs": [
    {
     "name": "stdout",
     "output_type": "stream",
     "text": [
      "             Name   Birthdate  Salary  age\n",
      "0    Arati Shinde  1996-07-20   84000   26\n",
      "1    Shubham Koli  1995-08-23   80000   27\n",
      "2  Surbhi Devaraj  1996-01-17   40000   26\n"
     ]
    }
   ],
   "source": [
    "def calculate_age(born):\n",
    "    born = datetime.strptime(born, \"%Y-%m-%d\")\n",
    "    today = date.today()\n",
    "    return today.year - born.year - ((today.month, today.day) < (born.month, born.day))\n",
    "\n",
    "df['age'] = df['Birthdate'].apply(calculate_age)\n",
    "print(df)"
   ]
  },
  {
   "cell_type": "code",
   "execution_count": null,
   "id": "1af8490b",
   "metadata": {},
   "outputs": [],
   "source": []
  }
 ],
 "metadata": {
  "kernelspec": {
   "display_name": "Python 3 (ipykernel)",
   "language": "python",
   "name": "python3"
  },
  "language_info": {
   "codemirror_mode": {
    "name": "ipython",
    "version": 3
   },
   "file_extension": ".py",
   "mimetype": "text/x-python",
   "name": "python",
   "nbconvert_exporter": "python",
   "pygments_lexer": "ipython3",
   "version": "3.9.12"
  },
  "varInspector": {
   "cols": {
    "lenName": 16,
    "lenType": 16,
    "lenVar": 40
   },
   "kernels_config": {
    "python": {
     "delete_cmd_postfix": "",
     "delete_cmd_prefix": "del ",
     "library": "var_list.py",
     "varRefreshCmd": "print(var_dic_list())"
    },
    "r": {
     "delete_cmd_postfix": ") ",
     "delete_cmd_prefix": "rm(",
     "library": "var_list.r",
     "varRefreshCmd": "cat(var_dic_list()) "
    }
   },
   "types_to_exclude": [
    "module",
    "function",
    "builtin_function_or_method",
    "instance",
    "_Feature"
   ],
   "window_display": false
  }
 },
 "nbformat": 4,
 "nbformat_minor": 5
}
